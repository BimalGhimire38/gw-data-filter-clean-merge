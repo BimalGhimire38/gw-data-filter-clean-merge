{
 "cells": [
  {
   "cell_type": "code",
   "execution_count": 8,
   "metadata": {},
   "outputs": [],
   "source": [
    "# 2081/10/24  04:50 PM\n",
    "\n",
    "import openpyxl\n",
    "from openpyxl import load_workbook,Workbook"
   ]
  },
  {
   "cell_type": "code",
   "execution_count": 9,
   "metadata": {},
   "outputs": [],
   "source": [
    "files_list = ['Jhapa.xlsx','Morang.xlsx','Sunsari.xlsx','Udaypur.xlsx']"
   ]
  },
  {
   "cell_type": "code",
   "execution_count": 10,
   "metadata": {},
   "outputs": [
    {
     "name": "stdout",
     "output_type": "stream",
     "text": [
      "['jhapa(1999-2010_ DTW)', 'Jhapa(1999-2010_STW)']\n",
      "['morang(1999-2010_STW)', 'morang(1999-2010_DTW)']\n",
      "['Sunsari(1999-2010_STW)', 'Sunsari(1999-2010_DTW)']\n",
      "['Sheet1', 'Udaypur(1996-2010)(STW)']\n"
     ]
    }
   ],
   "source": [
    "for file_name in files_list:\n",
    "    wb = load_workbook(file_name)\n",
    "    sheets = wb.sheetnames\n",
    "    print(sheets)"
   ]
  },
  {
   "cell_type": "code",
   "execution_count": 12,
   "metadata": {},
   "outputs": [
    {
     "name": "stdout",
     "output_type": "stream",
     "text": [
      "jhapa(1999-2010_ DTW) is DTW\n",
      "Jhapa(1999-2010_STW) is STW\n",
      "morang(1999-2010_STW) is STW\n",
      "morang(1999-2010_DTW) is DTW\n",
      "Sunsari(1999-2010_STW) is STW\n",
      "Sunsari(1999-2010_DTW) is DTW\n",
      "Udaypur(1996-2010)(STW) is STW\n"
     ]
    }
   ],
   "source": [
    "for file_name in files_list:\n",
    "    wb = load_workbook(file_name)\n",
    "    sheets = wb.sheetnames\n",
    "    for sheet in sheets:\n",
    "        # print(sheet)\n",
    "        if 'STW' in str(sheet):\n",
    "            print(f\"{sheet} is STW\")\n",
    "        elif 'DTW' in str(sheet):\n",
    "            print(f\"{sheet} is DTW\")"
   ]
  },
  {
   "cell_type": "code",
   "execution_count": null,
   "metadata": {},
   "outputs": [],
   "source": [
    "def STW_operation(file_name,sheet_name):\n",
    "    wb = load_workbook(file_name)\n",
    "    ws = wb[sheet_name]\n",
    "    for i in range(1,ws.max_row+1):\n",
    "        for j in range(1,ws.max_column+1):\n",
    "            ws.cell(row=)"
   ]
  },
  {
   "cell_type": "code",
   "execution_count": null,
   "metadata": {},
   "outputs": [],
   "source": [
    "for file_name in files_list:\n",
    "    wb = load_workbook(file_name)\n",
    "    sheets = wb.sheetnames\n",
    "    for sheet in sheets:\n",
    "        # print(sheet)\n",
    "        if 'STW' in str(sheet):\n",
    "            print(f\"{sheet} is STW\")\n",
    "        elif 'DTW' in str(sheet):\n",
    "            print(f\"{sheet} is DTW\")"
   ]
  }
 ],
 "metadata": {
  "kernelspec": {
   "display_name": "Python 3",
   "language": "python",
   "name": "python3"
  },
  "language_info": {
   "codemirror_mode": {
    "name": "ipython",
    "version": 3
   },
   "file_extension": ".py",
   "mimetype": "text/x-python",
   "name": "python",
   "nbconvert_exporter": "python",
   "pygments_lexer": "ipython3",
   "version": "3.12.6"
  }
 },
 "nbformat": 4,
 "nbformat_minor": 2
}
